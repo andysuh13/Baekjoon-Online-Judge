{
 "cells": [
  {
   "cell_type": "code",
   "execution_count": 3,
   "metadata": {},
   "outputs": [
    {
     "name": "stdout",
     "output_type": "stream",
     "text": [
      "=\n"
     ]
    }
   ],
   "source": [
    "# 1. 두 수 비교하기 (1330)\n",
    "A, B = map(int, input().split())\n",
    "\n",
    "if A > B:\n",
    "    print(\">\")\n",
    "elif A < B :\n",
    "    print(\"<\")\n",
    "else:\n",
    "    print(\"==\")"
   ]
  },
  {
   "cell_type": "code",
   "execution_count": 4,
   "metadata": {},
   "outputs": [
    {
     "name": "stdout",
     "output_type": "stream",
     "text": [
      "A\n"
     ]
    }
   ],
   "source": [
    "# 2. 시험 성적 (9498)\n",
    "A = int(input())\n",
    "\n",
    "if 90 <= A <= 100:\n",
    "    print(\"A\")\n",
    "elif 80 <= A <= 89:\n",
    "    print(\"B\")\n",
    "elif 70 <= A <= 79:\n",
    "    print(\"C\")\n",
    "elif 60 <= A <= 69:\n",
    "    print(\"D\")\n",
    "else:\n",
    "    print(\"F\")"
   ]
  },
  {
   "cell_type": "code",
   "execution_count": 6,
   "metadata": {},
   "outputs": [
    {
     "name": "stdout",
     "output_type": "stream",
     "text": [
      "0\n"
     ]
    }
   ],
   "source": [
    "# 3. 윤년 (2753)\n",
    "A = int(input())\n",
    "\n",
    "if (A % 4 == 0) and (A % 100 != 0 or A % 400 == 0):\n",
    "    print(\"1\")\n",
    "else:\n",
    "    print(\"0\")"
   ]
  },
  {
   "cell_type": "code",
   "execution_count": null,
   "metadata": {},
   "outputs": [],
   "source": [
    "# 4. 사분면 고르기 (14681)\n",
    "x = int(input())\n",
    "y = int(input())\n",
    "\n",
    "if (x > 0) and (y > 0):\n",
    "    print(\"1\")\n",
    "elif (x < 0) and (y > 0):\n",
    "    print(\"2\")\n",
    "elif (x < 0) and (y < 0):\n",
    "    print(\"3\")\n",
    "else:\n",
    "    print(\"4\")"
   ]
  },
  {
   "cell_type": "code",
   "execution_count": 11,
   "metadata": {},
   "outputs": [
    {
     "name": "stdout",
     "output_type": "stream",
     "text": [
      "23 45\n"
     ]
    }
   ],
   "source": [
    "# 5. 알람 시계 (2884)\n",
    "H, M = map(int, input().split())\n",
    "\n",
    "if (M - 45) < 0:\n",
    "    H = H - 1\n",
    "    M = 60 - (45 - M)\n",
    "    if H < 0:\n",
    "        H = 23\n",
    "\n",
    "else:\n",
    "    M = M - 45\n",
    "\n",
    "print(H, M)"
   ]
  },
  {
   "cell_type": "code",
   "execution_count": 25,
   "metadata": {},
   "outputs": [
    {
     "name": "stdout",
     "output_type": "stream",
     "text": [
      "1 18\n"
     ]
    }
   ],
   "source": [
    "# 6. 오븐 시계 (2525)\n",
    "A, B = map(int, input().split()) # 현재 시각 (A시 B분)\n",
    "C = int(input()) # 걸리는 시간 (분)\n",
    "\n",
    "C_H = C // 60\n",
    "C_M = C % 60 \n",
    "\n",
    "# C_H 시간 C_M 분 걸림.\n",
    "\n",
    "A = A + C_H\n",
    "B = B + C_M\n",
    "\n",
    "# 끝나는 시각 : H시 M분\n",
    "\n",
    "if B >= 60: # M이 60 이상이면 H + 1을 하고 M에서 \n",
    "    A = A + 1\n",
    "    B = B % 60\n",
    "else:\n",
    "    pass\n",
    "\n",
    "if A >= 24:\n",
    "    A = A % 24\n",
    "\n",
    "print(A, B)"
   ]
  },
  {
   "cell_type": "code",
   "execution_count": 31,
   "metadata": {},
   "outputs": [
    {
     "name": "stdout",
     "output_type": "stream",
     "text": [
      "600\n"
     ]
    }
   ],
   "source": [
    "# 7. 주사위 세 개 (2480)\n",
    "A, B, C = map(int, input().split())\n",
    "money = 0\n",
    "\n",
    "if A == B == C:\n",
    "    money = 10000 + A * 1000\n",
    "elif A == B:\n",
    "    money = 1000 + A * 100\n",
    "elif B == C:\n",
    "    money = 1000 + B * 100\n",
    "elif C == A:\n",
    "    money = 1000 + C * 100\n",
    "else:\n",
    "    money = max(A, B, C) * 100\n",
    "\n",
    "print(money)"
   ]
  }
 ],
 "metadata": {
  "kernelspec": {
   "display_name": "torch_book",
   "language": "python",
   "name": "python3"
  },
  "language_info": {
   "codemirror_mode": {
    "name": "ipython",
    "version": 3
   },
   "file_extension": ".py",
   "mimetype": "text/x-python",
   "name": "python",
   "nbconvert_exporter": "python",
   "pygments_lexer": "ipython3",
   "version": "3.9.15"
  },
  "orig_nbformat": 4
 },
 "nbformat": 4,
 "nbformat_minor": 2
}
