{
 "cells": [
  {
   "cell_type": "code",
   "execution_count": null,
   "metadata": {},
   "outputs": [],
   "source": [
    "# 1. 개수 세기 (10807)\n",
    "N = int(input())\n",
    "lst = list(map(int, input().split()))\n",
    "v = int(input())\n",
    "\n",
    "print(lst.count(v))"
   ]
  },
  {
   "cell_type": "code",
   "execution_count": null,
   "metadata": {},
   "outputs": [],
   "source": [
    "# 2. X보다 작은 수 (10871)\n",
    "N, X = map(int, input().split())\n",
    "lst = list(map(int, input().split()))\n",
    "for i in lst:\n",
    "    if i < X: print(i, end=' ')"
   ]
  },
  {
   "cell_type": "code",
   "execution_count": null,
   "metadata": {},
   "outputs": [],
   "source": [
    "# 3. 최소, 최대 (10818)\n",
    "N = int(input())\n",
    "lst = list(map(int, input().split()))\n",
    "print(min(lst), max(lst))"
   ]
  },
  {
   "cell_type": "code",
   "execution_count": null,
   "metadata": {},
   "outputs": [],
   "source": [
    "# 4. 최댓값 (2562)\n",
    "lst = []\n",
    "for i in range(9):\n",
    "    lst.append(int(input()))\n",
    "maxi = max(lst)\n",
    "idx = lst.index(maxi)\n",
    "\n",
    "print(maxi)\n",
    "print(idx + 1)"
   ]
  },
  {
   "cell_type": "code",
   "execution_count": null,
   "metadata": {},
   "outputs": [],
   "source": [
    "# 5. 공 넣기 (10810)\n",
    "N, M = map(int, input().split())\n",
    "lst = []\n",
    "for a in range(N):\n",
    "    lst.append(0)\n",
    "\n",
    "for b in range(M):\n",
    "    i, j, k = map(int, input().split())\n",
    "    i -= 1\n",
    "    j -= 1\n",
    "    while i <= j:\n",
    "        lst[i] = k\n",
    "        i += 1\n",
    "\n",
    "for c in range(len(lst)):\n",
    "    print(lst[c], end=' ')"
   ]
  },
  {
   "cell_type": "code",
   "execution_count": 4,
   "metadata": {},
   "outputs": [
    {
     "name": "stdout",
     "output_type": "stream",
     "text": [
      "[1, 2, 3, 4, 5]\n",
      "3 1 4 2 5 "
     ]
    }
   ],
   "source": [
    "# 6. 공 바꾸기 (10813)\n",
    "N, M = map(int, input().split())\n",
    "lst = []\n",
    "\n",
    "for a in range(N):\n",
    "    lst.append(a+1)\n",
    "\n",
    "for b in range(M):\n",
    "    i, j = map(int, input().split())\n",
    "    i -= 1\n",
    "    j -= 1\n",
    "    lst[i], lst[j] = lst[j], lst[i]\n",
    "\n",
    "for c in range(len(lst)):\n",
    "    print(lst[c], end=' ')"
   ]
  },
  {
   "cell_type": "code",
   "execution_count": null,
   "metadata": {},
   "outputs": [],
   "source": [
    "# 7. 과제 안 내신 분..? (5597)\n",
    "lst = []\n",
    "for a in range(28):\n",
    "    n = int(input())\n",
    "    lst.append(n)\n",
    "submit_set = set(lst)\n",
    "total_set = set(range(1, 31))\n",
    "result = total_set - submit_set\n",
    "result = list(result)\n",
    "print(min(result))\n",
    "print(max(result))"
   ]
  },
  {
   "cell_type": "code",
   "execution_count": 12,
   "metadata": {},
   "outputs": [
    {
     "name": "stdout",
     "output_type": "stream",
     "text": [
      "1\n"
     ]
    }
   ],
   "source": [
    "# 8. 나머지 (3052)\n",
    "lst = []\n",
    "for a in range(10):\n",
    "    i = int(input())\n",
    "    lst.append(i % 42)\n",
    "result = set(lst)\n",
    "print(len(result))"
   ]
  },
  {
   "cell_type": "code",
   "execution_count": 28,
   "metadata": {},
   "outputs": [
    {
     "name": "stdout",
     "output_type": "stream",
     "text": [
      "3 4 1 2 5 "
     ]
    }
   ],
   "source": [
    "# 9. 바구니 뒤집기 (10811)\n",
    "N, M = map(int, input().split())\n",
    "lst = []\n",
    "for a in range(N):\n",
    "    lst.append(a+1)\n",
    "\n",
    "for b in range(M):\n",
    "    i, j = map(int, input().split())\n",
    "    i -= 1\n",
    "    j -= 1\n",
    "    k = lst[i:j+1]\n",
    "    k.reverse()\n",
    "    lst[i:j+1] = k\n",
    "for c in range(len(lst)):\n",
    "    print(lst[c], end=' ')"
   ]
  },
  {
   "cell_type": "code",
   "execution_count": 1,
   "metadata": {},
   "outputs": [
    {
     "name": "stdout",
     "output_type": "stream",
     "text": [
      "75.0\n"
     ]
    }
   ],
   "source": [
    "# 10. 평균 (1546)\n",
    "N = int(input())\n",
    "sum = 0\n",
    "avg = 0\n",
    "scores = list(map(int, input().split()))\n",
    "max_score = max(scores)\n",
    "\n",
    "for score in scores:\n",
    "    score = (score / max_score) * 100\n",
    "    sum += score\n",
    "avg = sum / N\n",
    "print(avg)"
   ]
<<<<<<< HEAD
=======
  },
  {
   "cell_type": "code",
   "execution_count": null,
   "metadata": {},
   "outputs": [],
   "source": []
>>>>>>> 6e5528803734f7e26b9b6a53ccd75ba67b80bff0
  }
 ],
 "metadata": {
  "kernelspec": {
   "display_name": "torch_book",
   "language": "python",
   "name": "python3"
  },
  "language_info": {
   "codemirror_mode": {
    "name": "ipython",
    "version": 3
   },
   "file_extension": ".py",
   "mimetype": "text/x-python",
   "name": "python",
   "nbconvert_exporter": "python",
   "pygments_lexer": "ipython3",
   "version": "3.9.15"
  },
  "orig_nbformat": 4
 },
 "nbformat": 4,
 "nbformat_minor": 2
}
