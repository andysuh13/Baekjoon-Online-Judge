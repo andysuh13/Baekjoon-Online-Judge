{
 "cells": [
  {
   "cell_type": "code",
   "execution_count": null,
   "metadata": {},
   "outputs": [],
   "source": [
    "# 1. 문자와 문자열 (27866)\n",
    "S = input()\n",
    "i = int(input())\n",
    "print(S[i-1])"
   ]
  },
  {
   "cell_type": "code",
   "execution_count": null,
   "metadata": {},
   "outputs": [],
   "source": [
    "# 2. 단어 길이 재기 (2743)\n",
    "S = input()\n",
    "print(len(S))"
   ]
  },
  {
   "cell_type": "code",
   "execution_count": null,
   "metadata": {},
   "outputs": [],
   "source": [
    "# 3. 문자열 (9086)\n",
    "T = int(input())\n",
    "for i in range(T):\n",
    "    S = input()\n",
    "    print(S[0] + S[-1])"
   ]
  },
  {
   "cell_type": "code",
   "execution_count": 5,
   "metadata": {},
   "outputs": [
    {
     "name": "stdout",
     "output_type": "stream",
     "text": [
      "97\n"
     ]
    }
   ],
   "source": [
    "# 4. 아스키 코드 (11654)\n",
    "S = input()\n",
    "print(ord(S))"
   ]
  },
  {
   "cell_type": "code",
   "execution_count": null,
   "metadata": {},
   "outputs": [],
   "source": [
    "# 5. 숫자의 합\n",
    "N = int(input())\n",
    "n = input()\n",
    "result = 0\n",
    "for i in range(N):\n",
    "    result += int(n[i])\n",
    "print(result)"
   ]
  },
  {
   "cell_type": "code",
   "execution_count": 12,
   "metadata": {},
   "outputs": [
    {
     "name": "stdout",
     "output_type": "stream",
     "text": [
      "1 0 -1 -1 2 -1 -1 -1 -1 4 3 -1 -1 7 5 -1 -1 -1 -1 -1 -1 -1 -1 -1 -1 -1 "
     ]
    }
   ],
   "source": [
    "# 6. 알파벳 찾기 (10809)\n",
    "S = input()\n",
    "lst = []\n",
    "for i in range(26):\n",
    "    lst.append(-1)\n",
    "for i in range(97, 123):\n",
    "    if chr(i) in S:\n",
    "        lst[i-97] = S.index(chr(i))    \n",
    "for i in range(len(lst)):\n",
    "    print(lst[i], end=' ')"
   ]
  },
  {
   "cell_type": "code",
   "execution_count": 25,
   "metadata": {},
   "outputs": [
    {
     "name": "stdout",
     "output_type": "stream",
     "text": [
      "AAABBBCCC\n",
      "/////HHHHHTTTTTPPPPP\n"
     ]
    }
   ],
   "source": [
    "# 7. 문자열 반복 (2675)\n",
    "T = int(input())\n",
    "for i in range(T):\n",
    "    R, S = input().split()\n",
    "    R = int(R)\n",
    "    for j in range(len(S)):\n",
    "        print(S[j] * R, end='')\n",
    "    print()"
   ]
  },
  {
   "cell_type": "code",
   "execution_count": 28,
   "metadata": {},
   "outputs": [
    {
     "name": "stdout",
     "output_type": "stream",
     "text": [
      "6\n"
     ]
    }
   ],
   "source": [
    "# 8. 단어의 개수 (1152)\n",
    "lst = input().split()\n",
    "print(len(lst))"
   ]
  },
  {
   "cell_type": "code",
   "execution_count": 39,
   "metadata": {},
   "outputs": [
    {
     "name": "stdout",
     "output_type": "stream",
     "text": [
      "938\n"
     ]
    }
   ],
   "source": [
    "# 9. 상수 (2908)\n",
    "A, B = map(list, input().split())\n",
    "A.reverse()\n",
    "B.reverse()\n",
    "A = int(''.join(A))\n",
    "B = int(''.join(B))\n",
    "print(max(A, B))"
   ]
  },
  {
   "cell_type": "code",
   "execution_count": 9,
   "metadata": {},
   "outputs": [
    {
     "name": "stdout",
     "output_type": "stream",
     "text": [
      "36\n"
     ]
    }
   ],
   "source": [
    "# 10. 다이얼 (5622)\n",
    "S = input()\n",
    "result = 0\n",
    "for i in range(len(S)):\n",
    "    t = 0\n",
    "    diff = ord(S[i]) - ord('A')\n",
    "    if diff <= 14:\n",
    "        quot = diff // 3\n",
    "        t = quot + 3\n",
    "    elif 15 <= diff <= 18:\n",
    "        t = 8\n",
    "    elif 19 <= diff <= 21:\n",
    "        t = 9\n",
    "    elif 22 <= diff <= 25:\n",
    "        t = 10\n",
    "    result += t\n",
    "print(result)"
   ]
  },
  {
   "cell_type": "code",
   "execution_count": 4,
   "metadata": {},
   "outputs": [],
   "source": [
    "# 11. 그대로 출력하기 (11718)\n",
    "import sys\n",
    "S = sys.stdin.readlines()\n",
    "for i in S:\n",
    "    print(i.rstrip())"
   ]
  },
  {
   "cell_type": "code",
   "execution_count": null,
   "metadata": {},
   "outputs": [],
   "source": [
    "# 11. 그대로 출력하기 (11718)\n",
    "while True:\n",
    "    try:\n",
    "        print(input())\n",
    "    except EOFError:\n",
    "        break"
   ]
  },
  {
   "cell_type": "code",
   "execution_count": null,
   "metadata": {},
   "outputs": [],
   "source": [
    "# 11. 그대로 출력하기 (11718)\n",
    "while True:\n",
    "    try:\n",
    "        print(input())\n",
    "    except:\n",
    "        break"
   ]
  }
 ],
 "metadata": {
  "kernelspec": {
   "display_name": "torch_book",
   "language": "python",
   "name": "python3"
  },
  "language_info": {
   "codemirror_mode": {
    "name": "ipython",
    "version": 3
   },
   "file_extension": ".py",
   "mimetype": "text/x-python",
   "name": "python",
   "nbconvert_exporter": "python",
   "pygments_lexer": "ipython3",
   "version": "3.9.15"
  },
  "orig_nbformat": 4
 },
 "nbformat": 4,
 "nbformat_minor": 2
}
