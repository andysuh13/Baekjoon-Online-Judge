{
 "cells": [
  {
   "cell_type": "code",
   "execution_count": 4,
   "metadata": {},
   "outputs": [
    {
     "name": "stdout",
     "output_type": "stream",
     "text": [
      "4 4 4 \n",
      "6 6 6 \n",
      "5 6 100 \n"
     ]
    }
   ],
   "source": [
    "# 1. 행렬 덧셈 (2738)\n",
    "N, M = map(int, input().split())\n",
    "# A, B를 N x M 영행렬로 초기화.\n",
    "A = []\n",
    "B = []\n",
    "for i in range(N):\n",
    "    A.append([])\n",
    "    B.append([])\n",
    "    for j in range(M):\n",
    "        A[i].append(0)\n",
    "        B[i].append(0)\n",
    "\n",
    "# 입력값을 받고 A, B의 성분으로 넣기.\n",
    "for i in range(N):\n",
    "    temp = list(map(int, input().split()))\n",
    "    A[i] = temp\n",
    "\n",
    "for j in range(N):\n",
    "    temp = list(map(int, input().split()))\n",
    "    B[j] = temp\n",
    "\n",
    "for i in range(N):\n",
    "    for j in range(M):\n",
    "        print(A[i][j] + B[i][j], end=' ')\n",
    "    print()"
   ]
  },
  {
   "cell_type": "code",
   "execution_count": null,
   "metadata": {},
   "outputs": [],
   "source": [
    "# 2. 최댓값 (2566)\n",
    "A = []\n",
    "result = -1\n",
    "r_idx = -1\n",
    "c_idx = -1\n",
    "\n",
    "for i in range(9):\n",
    "    A.append([])\n",
    "    A[i] = list(map(int, input().split()))\n",
    "\n",
    "for i in range(9):\n",
    "    if result < max(A[i]):\n",
    "        result = max(A[i])\n",
    "        r_idx = i+1\n",
    "        c_idx = A[i].index(max(A[i]))+1\n",
    "\n",
    "print(result)\n",
    "print(r_idx, c_idx)"
   ]
  },
  {
   "cell_type": "code",
   "execution_count": 16,
   "metadata": {},
   "outputs": [
    {
     "name": "stdout",
     "output_type": "stream",
     "text": [
      "Aa0aPAf985Bz1EhCz2W3D1gkD6x"
     ]
    }
   ],
   "source": [
    "# 3. 세로읽기 (10798)\n",
    "A = []\n",
    "max_length = 0\n",
    "\n",
    "for i in range(5):\n",
    "    A.append(list(input()))\n",
    "    if len(A[i]) > max_length:\n",
    "        max_length = len(A[i])\n",
    "\n",
    "for j in range(max_length):\n",
    "    for i in range(5):\n",
    "        try:\n",
    "            print(A[i][j], end='')\n",
    "        except:\n",
    "            pass"
   ]
  },
  {
   "cell_type": "code",
   "execution_count": 28,
   "metadata": {},
   "outputs": [
    {
     "name": "stdout",
     "output_type": "stream",
     "text": [
      "260\n"
     ]
    }
   ],
   "source": [
    "# 4. 색종이 (2563)\n",
    "N = int(input())\n",
    "result = 0\n",
    "A = []\n",
    "for i in range(100):\n",
    "    A.append([])\n",
    "    for j in range(100):\n",
    "        A[i].append(0)\n",
    "\n",
    "for i in range(N):\n",
    "    x, y = map(int, input().split())\n",
    "    \n",
    "    for j in range(10):\n",
    "        A[y+j][x:x+10] = [1, 1, 1, 1, 1, 1, 1, 1, 1, 1]\n",
    "\n",
    "for i in range(100):\n",
    "    result += sum(A[i])\n",
    "    \n",
    "print(result)"
   ]
  }
 ],
 "metadata": {
  "kernelspec": {
   "display_name": "torch_book",
   "language": "python",
   "name": "python3"
  },
  "language_info": {
   "codemirror_mode": {
    "name": "ipython",
    "version": 3
   },
   "file_extension": ".py",
   "mimetype": "text/x-python",
   "name": "python",
   "nbconvert_exporter": "python",
   "pygments_lexer": "ipython3",
   "version": "3.9.15"
  },
  "orig_nbformat": 4
 },
 "nbformat": 4,
 "nbformat_minor": 2
}
