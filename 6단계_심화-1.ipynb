{
 "cells": [
  {
   "cell_type": "code",
   "execution_count": 7,
   "metadata": {},
   "outputs": [
    {
     "name": "stdout",
     "output_type": "stream",
     "text": [
      "         ,r'\"7\n",
      "r`-_   ,'  ,/\n",
      " \\. \". L_r'\n",
      "   `~\\/\n",
      "      |\n",
      "      |\n"
     ]
    }
   ],
   "source": [
    "# 1. 새싹 (25083)\n",
    "print(\"         ,r\\'\\\"7\")\n",
    "print(\"r`-_   ,'  ,/\")\n",
    "print(\" \\\\. \\\". L_r'\")\n",
    "print(\"   `~\\\\/\")\n",
    "print(\"      |\")\n",
    "print(\"      |\")"
   ]
  },
  {
   "cell_type": "code",
   "execution_count": 10,
   "metadata": {},
   "outputs": [
    {
     "name": "stdout",
     "output_type": "stream",
     "text": [
      "1 0 0 0 0 1 "
     ]
    }
   ],
   "source": [
    "# 2. 킹, 퀸, 룩, 비숍, 나이트, 폰 (3003)\n",
    "lst = list(map(int, input().split()))\n",
    "\n",
    "if lst[0] != 1:\n",
    "    lst[0] = 1 - lst[0]\n",
    "else:\n",
    "    lst[0] = 0\n",
    "\n",
    "if lst[1] != 1:\n",
    "    lst[1] = 1 - lst[1]\n",
    "else:\n",
    "    lst[1] = 0\n",
    "\n",
    "if lst[2] != 2:\n",
    "    lst[2] = 2 - lst[2]\n",
    "else:\n",
    "    lst[2] = 0\n",
    "\n",
    "if lst[3] != 2:\n",
    "    lst[3] = 2 - lst[3]\n",
    "else:\n",
    "    lst[3] = 0\n",
    "\n",
    "if lst[4] != 2:\n",
    "    lst[4] = 2 - lst[4]\n",
    "else:\n",
    "    lst[4] = 0\n",
    "\n",
    "if lst[5] != 8:\n",
    "    lst[5] = 8 - lst[5]\n",
    "else:\n",
    "    lst[5] = 0\n",
    "\n",
    "for i in range(len(lst)):\n",
    "    print(lst[i],end=' ')"
   ]
  },
  {
   "cell_type": "code",
   "execution_count": 20,
   "metadata": {},
   "outputs": [
    {
     "name": "stdout",
     "output_type": "stream",
     "text": [
      "    *    \n",
      "   ***   \n",
      "  *****  \n",
      " ******* \n",
      "*********\n",
      " ******* \n",
      "  *****  \n",
      "   ***   \n",
      "    *    \n"
     ]
    }
   ],
   "source": [
    "# 3. 별 찍기 - 7 (2444) - 오답\n",
    "N = int(input())\n",
    "for i in range(1, N+1):\n",
    "    # print(' ' * (N-i), end='')\n",
    "    # print('*' * (2*i-1), end='')\n",
    "    # print(' ' * (N-i))\n",
    "    print(' ' * (N-i) + '*' * (2*i-1) + ' ' * (N-i))\n",
    "for i in range(N+1, 2*N):\n",
    "#     print(' ' * (i-N), end='')\n",
    "#     print('*' * ((2*N-1)-2*(i-N)), end='')\n",
    "#     print(' ' * (i-N))\n",
    "    print(' ' * (i-N) + '*' * ((2*N-1)-2*(i-N)) + ' ' * (i-N))"
   ]
  },
  {
   "cell_type": "code",
   "execution_count": 21,
   "metadata": {},
   "outputs": [
    {
     "name": "stdout",
     "output_type": "stream",
     "text": [
      "    *\n",
      "   ***\n",
      "  *****\n",
      " *******\n",
      "*********\n",
      " *******\n",
      "  *****\n",
      "   ***\n",
      "    *\n"
     ]
    }
   ],
   "source": [
    "# 3. 별 찍기 - 7 (2444) - 정답\n",
    "N = int(input())\n",
    "for i in range(1, N+1):\n",
    "    print(' ' * (N-i) + '*' * (2*i-1))\n",
    "for i in range(N+1, 2*N):\n",
    "    print(' ' * (i-N) + '*' * ((2*N-1)-2*(i-N)))"
   ]
  },
  {
   "cell_type": "code",
   "execution_count": 37,
   "metadata": {},
   "outputs": [
    {
     "name": "stdout",
     "output_type": "stream",
     "text": [
      "0\n"
     ]
    }
   ],
   "source": [
    "# 4. 팰린드롬인지 확인하기 (10988)\n",
    "s = input()\n",
    "s_lst = list(s)\n",
    "s_lst.reverse()\n",
    "r = ''.join(s_lst)\n",
    "print(int(s == r))"
   ]
  },
  {
   "cell_type": "code",
   "execution_count": 50,
   "metadata": {},
   "outputs": [
    {
     "name": "stdout",
     "output_type": "stream",
     "text": [
      "?\n"
     ]
    }
   ],
   "source": [
    "# 5. 단어 공부 (1157)\n",
    "S = input().lower()\n",
    "S_set = set(S)\n",
    "m = 0\n",
    "result = ''\n",
    "for c in S_set:\n",
    "    cnt = S.count(c)\n",
    "    if cnt > m:\n",
    "        m = cnt\n",
    "        result = c.upper()\n",
    "    elif cnt == m:\n",
    "        result = '?'\n",
    "print(result)"
   ]
  },
  {
   "cell_type": "code",
   "execution_count": 87,
   "metadata": {},
   "outputs": [
    {
     "name": "stdout",
     "output_type": "stream",
     "text": [
      "3\n"
     ]
    }
   ],
   "source": [
    "# 6. 크로아티아 알파벳 (2941)\n",
    "s = input()\n",
    "lst = ['c=', 'c-', 'dz=', 'd-', 'lj', 'nj', 's=', 'z=']\n",
    "for c in lst:\n",
    "    if c in s:\n",
    "        s = s.replace(c, 'c')\n",
    "print(len(s))"
   ]
  },
  {
   "cell_type": "code",
   "execution_count": 98,
   "metadata": {},
   "outputs": [
    {
     "name": "stdout",
     "output_type": "stream",
     "text": [
      "2\n"
     ]
    }
   ],
   "source": [
    "# 7. 그룹 단어 체커 (1316)\n",
    "N = int(input())\n",
    "cnt = 0\n",
    "for i in range(N):\n",
    "    chk = 0\n",
    "    lst = []\n",
    "    s = input() # 단어를 입력 받는다.\n",
    "    if len(s) == 1:\n",
    "        cnt += 1\n",
    "    else:\n",
    "        for j in range(len(s)-1): # 한 단어에 대해 조사 시작.\n",
    "            if s[j] == s[j+1]: # 같은 알파벳이 연속되면 패스.\n",
    "                pass\n",
    "            else: # 다음 알파벳과 다르다면,\n",
    "                if s[j] in lst: # 그런데 현재 위치의 알파벳이 lst에 있다면, 그룹 단어가 아니다.\n",
    "                    chk = -1\n",
    "                    break         \n",
    "                else: # 현재 위치의 알파벳이 lst에 없다면, lst에 추가한다. (아직 그룹 단어인지 아닌지 얘기할 수 없다.)\n",
    "                    lst.append(s[j])\n",
    "        # 마지막 알파벳도 확인해야 한다.\n",
    "        if s[-1] in lst: # 마지막 알파벳이 lst에 있다면 그룹 단어가 아니다.\n",
    "            chk = -1\n",
    "        elif chk == 0:\n",
    "            cnt += 1\n",
    "print(cnt)"
   ]
  },
  {
   "cell_type": "code",
   "execution_count": 91,
   "metadata": {},
   "outputs": [
    {
     "data": {
      "text/plain": [
       "[]"
      ]
     },
     "execution_count": 91,
     "metadata": {},
     "output_type": "execute_result"
    }
   ],
   "source": [
    "# 8. 너의 평점은 (25206)\n",
    "dic = {'A+':4.5, 'A0':4.0, 'B+':3.5, 'B0':3.0, 'C+':2.5, 'C0':2.0, 'D+':1.5, 'D0':1.0, 'F':0.0}\n",
    "score_sum = 0\n",
    "level_sum = 0\n",
    "result = 0\n",
    "for i in range(20):\n",
    "    name, level, rank = input().split() # 과목명, 학점, 등급\n",
    "    if rank == 'P':\n",
    "        continue\n",
    "    level = float(level)\n",
    "    rank = dic[rank]\n",
    "    score_sum += level * rank\n",
    "    level_sum += level\n",
    "\n",
    "result = score_sum / level_sum\n",
    "print(result)"
   ]
  }
 ],
 "metadata": {
  "kernelspec": {
   "display_name": "torch_book",
   "language": "python",
   "name": "python3"
  },
  "language_info": {
   "codemirror_mode": {
    "name": "ipython",
    "version": 3
   },
   "file_extension": ".py",
   "mimetype": "text/x-python",
   "name": "python",
   "nbconvert_exporter": "python",
   "pygments_lexer": "ipython3",
   "version": "3.9.15"
  },
  "orig_nbformat": 4
 },
 "nbformat": 4,
 "nbformat_minor": 2
}
